{
 "cells": [
  {
   "cell_type": "markdown",
   "metadata": {},
   "source": [
    "## 2.1 Relative Ranks \n",
    "\n",
    "You are given an integer array score of size n, where score[i] is the score of the ith athlete in a competition. All the scores are guaranteed to be unique. \n",
    "\n",
    "The athletes are placed based on their scores, where the 1st place athlete has the highest score, the 2nd place athlete has the 2nd highest score, and so on. The placement of each athlete determines their rank: \n",
    " The 1st place athlete's rank is \"Gold Medal\". \n",
    " The 2nd place athlete's rank is \"Silver Medal\". \n",
    " The 3rd place athlete's rank is \"Bronze Medal\". \n",
    " For the 4th place to the nth place athlete, their rank is their placement number (i.e., the xth place athlete's rank is \"x\"). \n",
    "\n",
    "Return an array answer of size n where answer[i] is the rank of the ith athlete.\n",
    "\n",
    "Input: score = [5, 4, 3, 2, 1]\n",
    "Output: [\"Gold Medal\", \"Silver Medal\", \"Bronze Medal\",\"4\",\"5\"]\n",
    "Explanation: The placements are [1st, 2nd, 3rd, 4th, 5th].\n",
    "\n",
    "Input: score = [10, 3, 8, 9, 4]\n",
    "Output: [\"Gold Medal\", \"5\", \"Bronze Medal\", \"Silver Medal\", \"4\"]\n",
    "Explanation: The placements are [1st, 5th, 3rd, 2nd, 4th].\n"
   ]
  },
  {
   "cell_type": "code",
   "execution_count": 1,
   "metadata": {},
   "outputs": [
    {
     "name": "stdout",
     "output_type": "stream",
     "text": [
      "['Gold Medal', '5', 'Bronze Medal', 'Silver Medal', '4']\n"
     ]
    }
   ],
   "source": [
    "def relative_ranks(score):\n",
    "    lis = [\"Gold Medal\", \"Silver Medal\", \"Bronze Medal\"] + (list(range(4,len(score) + 1)))\n",
    "    sort_score = sorted(score, reverse=True)\n",
    "    ans = []\n",
    "    for i in score:\n",
    "        ans.append(str(lis[sort_score.index(i)]))\n",
    "    return ans\n",
    "\n",
    "score = [10, 3, 8, 9, 4]\n",
    "print(relative_ranks(score))\n"
   ]
  }
 ],
 "metadata": {
  "kernelspec": {
   "display_name": "base",
   "language": "python",
   "name": "python3"
  },
  "language_info": {
   "codemirror_mode": {
    "name": "ipython",
    "version": 3
   },
   "file_extension": ".py",
   "mimetype": "text/x-python",
   "name": "python",
   "nbconvert_exporter": "python",
   "pygments_lexer": "ipython3",
   "version": "3.11.5"
  }
 },
 "nbformat": 4,
 "nbformat_minor": 2
}
