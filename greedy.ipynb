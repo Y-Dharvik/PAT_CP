{
 "cells": [
  {
   "cell_type": "markdown",
   "metadata": {},
   "source": []
  },
  {
   "cell_type": "code",
   "execution_count": 10,
   "metadata": {},
   "outputs": [
    {
     "name": "stdout",
     "output_type": "stream",
     "text": [
      "1 first\n",
      "1 second\n",
      "1 second\n",
      "1 second\n",
      "1 second\n",
      "i =  6\n",
      "3\n",
      "5\n",
      "6\n",
      "19\n"
     ]
    }
   ],
   "source": [
    "def least_interval(tasks, n):\n",
    "    new = sorted(tasks.items(), key=lambda x:x[1], reverse=True)\n",
    "    maxc = (new[0][1]-1) * n\n",
    "    left = 0\n",
    "    i = 1\n",
    "    while(i < len(new)):\n",
    "        if(maxc <= 0):\n",
    "            break\n",
    "        if new[i][1] == new[0][1]:\n",
    "            if new[i][1] - 1 > maxc:\n",
    "                left += new[i][1] - 1 - maxc\n",
    "                print(left, \"first 1\")\n",
    "                maxc = 0\n",
    "                i += 1\n",
    "                break\n",
    "            else:\n",
    "                maxc -= new[i][1] - 1\n",
    "                left += 1\n",
    "                print(left, \"first\")\n",
    "        elif new[i][1] < new[0][1]:\n",
    "            if new[i][1] > maxc:\n",
    "                left += new[i][1] - maxc\n",
    "                print(left, \"second 1\")\n",
    "                maxc = 0\n",
    "                i += 1\n",
    "                break\n",
    "            else:\n",
    "                maxc -= new[i][1]\n",
    "                print(left, \"second\")\n",
    "        i += 1\n",
    "    print(\"i = \", i)\n",
    "    while(i < len(new)):\n",
    "        left += new[i][1]\n",
    "        i += 1\n",
    "\n",
    "    print(left)\n",
    "    print(new[0][1] -1)\n",
    "    print(new[0][1])\n",
    "    return left + (new[0][1]-1)*n + new[0][1]\n",
    "           \n",
    "\n",
    "        \n",
    "\n",
    "d = {'A' : 6, 'B' : 6, \"C\" : 2, 'D' : 1,'E' : 1,'F' : 1,'G' : 1,'H' : 1}\n",
    "print(least_interval(d, 2))"
   ]
  },
  {
   "cell_type": "code",
   "execution_count": 2,
   "metadata": {},
   "outputs": [
    {
     "name": "stdout",
     "output_type": "stream",
     "text": [
      "['[[1,2', ',[3,4', '', '']\n"
     ]
    }
   ],
   "source": [
    "#[[],[]]\n",
    "s = input().split(']')\n",
    "print(list(s))"
   ]
  }
 ],
 "metadata": {
  "kernelspec": {
   "display_name": "base",
   "language": "python",
   "name": "python3"
  },
  "language_info": {
   "codemirror_mode": {
    "name": "ipython",
    "version": 3
   },
   "file_extension": ".py",
   "mimetype": "text/x-python",
   "name": "python",
   "nbconvert_exporter": "python",
   "pygments_lexer": "ipython3",
   "version": "3.11.5"
  }
 },
 "nbformat": 4,
 "nbformat_minor": 2
}
