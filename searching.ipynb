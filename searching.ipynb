{
 "cells": [
  {
   "cell_type": "markdown",
   "metadata": {},
   "source": [
    "\n",
    "## 1.1 Search Insert Position\n",
    "Given a sorted array of distinct integers and a target value, return the index if the target is found. If not,\n",
    "return the index where it would be if it were inserted in order.\n",
    "\n",
    "You must write an algorithm with O(log n) runtime complexity.\n",
    "\n",
    "Input: nums = [1, 3, 5, 6], target = 5\n",
    "\n",
    "Output: 2\n",
    "\n",
    "Input: nums = [1, 3, 5, 6], target = 2\n",
    "\n",
    "Output: 1\n",
    "\n",
    "Input: nums = [1, 3, 5, 6], target = 7\n",
    "\n",
    "Output: 4"
   ]
  },
  {
   "cell_type": "code",
   "execution_count": 9,
   "metadata": {},
   "outputs": [
    {
     "name": "stdout",
     "output_type": "stream",
     "text": [
      "2\n"
     ]
    }
   ],
   "source": [
    "def binary_search(num, target):\n",
    "    left = 0\n",
    "    right = len(num) - 1\n",
    "    while left <= right:\n",
    "        mid = (left + right) // 2\n",
    "        if num[mid] == target:\n",
    "            return mid\n",
    "        elif num[mid] < target:\n",
    "            left = mid + 1\n",
    "        else:\n",
    "            right = mid - 1\n",
    "    return mid\n",
    "\n",
    "nums = [1, 2, 3,5, 7, 8, 9] \n",
    "target = 4\n",
    "print(binary_search(nums, target))\n"
   ]
  },
  {
   "cell_type": "markdown",
   "metadata": {},
   "source": [
    "## 1.2 Search a 2D Matrix\n",
    "You are given an m x n integer matrix with the following two properties:\\\n",
    "Each row is sorted in non-decreasing order.\\\n",
    " The first integer of each row is greater than the last integer of the previous row.\\\n",
    "Given an integer target, return true if target is in matrix or false otherwise.\\\n",
    "You must write a solution in O(log(m * n)) time complexity.\\\n",
    "Input: matrix = [[1, 3, 5, 7], [10, 11, 16, 20], [23, 30, 34, 60]], target = 3\\\n",
    "Output: true\\\n",
    "Input: matrix = [[1, 3, 5, 7], [10, 11, 16, 20], [23, 30, 34, 60]], target = 13\\\n",
    "Output: false"
   ]
  },
  {
   "cell_type": "code",
   "execution_count": null,
   "metadata": {},
   "outputs": [],
   "source": [
    "def find_2darr(nums, target):\n",
    "    "
   ]
  }
 ],
 "metadata": {
  "kernelspec": {
   "display_name": "base",
   "language": "python",
   "name": "python3"
  },
  "language_info": {
   "codemirror_mode": {
    "name": "ipython",
    "version": 3
   },
   "file_extension": ".py",
   "mimetype": "text/x-python",
   "name": "python",
   "nbconvert_exporter": "python",
   "pygments_lexer": "ipython3",
   "version": "3.11.5"
  }
 },
 "nbformat": 4,
 "nbformat_minor": 2
}
