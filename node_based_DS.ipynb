{
 "cells": [
  {
   "cell_type": "markdown",
   "metadata": {},
   "source": [
    "7.18 Insert Greatest Common Divisors in Linked List \n",
    "\n",
    "Given the head of a linked list head, in which each node contains an integer value. Between every pair of adjacent nodes, insert a new node with a value equal to the greatest common divisor of them. Return the linked list after insertion. The greatest common divisor of two numbers is the largest positive integer that evenly divides both numbers.\n",
    "\n",
    "Input: head = [18, 6, 10, 3]\n",
    "Output: [18, 6, 6, 2, 10, 1, 3]\n",
    "Explanation: The 1st diagram denotes the initial linked list and the 2nd diagram denotes the linked \n",
    "list after inserting the new nodes (nodes in blue are the inserted nodes).\n",
    "- We insert the greatest common divisor of 18 and 6 = 6 between the 1st and the 2nd nodes.\n",
    "- We insert the greatest common divisor of 6 and 10 = 2 between the 2nd and the 3rd nodes.\n",
    "- We insert the greatest common divisor of 10 and 3 = 1 between the 3rd and the 4th nodes.\n",
    "There are no more adjacent nodes, so we return the linked list.\n",
    "\n",
    "Input: head = [7]\n",
    "Output: [7]\n",
    "Explanation: The 1st diagram denotes the initial linked list and the 2nd diagram denotes the linked \n",
    "list\n",
    "after inserting the new nodes.\n",
    "There are no pairs of adjacent nodes, so we return the initial linked list.\n",
    "\n"
   ]
  },
  {
   "cell_type": "code",
   "execution_count": 5,
   "metadata": {},
   "outputs": [
    {
     "name": "stdout",
     "output_type": "stream",
     "text": [
      "18 6 6 2 10 1 3 \n"
     ]
    }
   ],
   "source": [
    "class ListNode:\n",
    "    def __init__(self, val=0, next=None):\n",
    "        self.val = val\n",
    "        self.next = next\n",
    "\n",
    "def input_ll():\n",
    "    head = ListNode()\n",
    "    cur = head\n",
    "    while True:\n",
    "        val = int(input())\n",
    "        if val == -1:\n",
    "            break\n",
    "        cur.next = ListNode(val)\n",
    "        cur = cur.next\n",
    "    return head.next\n",
    "\n",
    "def insert_gcd_linkedl(head):\n",
    "    cur = head\n",
    "    while cur:\n",
    "        if cur.next:\n",
    "            data = gcd(cur.val, cur.next.val)\n",
    "            cur.next = ListNode(data, cur.next)\n",
    "            cur = cur.next\n",
    "        cur = cur.next\n",
    "    return head\n",
    "\n",
    "def gcd(a, b):\n",
    "    if b == 0:\n",
    "        return a\n",
    "    return gcd(b, a%b)\n",
    "\n",
    "def print_ll(head):\n",
    "    cur = head\n",
    "    while cur:\n",
    "        print(cur.val, end=' ')\n",
    "        cur = cur.next\n",
    "    print()\n",
    "\n",
    "head = input_ll()\n",
    "head = insert_gcd_linkedl(head)\n",
    "print_ll(head)"
   ]
  },
  {
   "cell_type": "markdown",
   "metadata": {},
   "source": [
    "7.1 Remove Linked List Elements\n",
    "Given the head of a linked list and an integer val, remove all the nodes of the linked list that \n",
    "has Node.val\n",
    "== val, and return the new head.\n",
    "\n",
    "Input: head = [1, 2, 6, 3, 4, 5, 6], val = 6\n",
    "Output: [1, 2, 3, 4, 5]\n",
    "Input: head = [ ], val = 1\n",
    "Output: [ ]\n",
    "Input: head = [7, 7, 7, 7], val = 7\n",
    "Output: [ ]\n"
   ]
  },
  {
   "cell_type": "code",
   "execution_count": 6,
   "metadata": {},
   "outputs": [
    {
     "name": "stdout",
     "output_type": "stream",
     "text": [
      "1 2 3 4 5 \n"
     ]
    }
   ],
   "source": [
    "def remove_elements(head, val):\n",
    "    while head and head.val == val:\n",
    "        head = head.next\n",
    "    temp = head\n",
    "    while temp and temp.next:\n",
    "        if temp.next.val == val:\n",
    "            temp.next = temp.next.next\n",
    "        temp = temp.next\n",
    "    return head\n",
    "\n",
    "head = input_ll()\n",
    "val = int(input(\"Enter the value to remove: \"))\n",
    "head = remove_elements(head, val)\n",
    "print_ll(head)"
   ]
  }
 ],
 "metadata": {
  "kernelspec": {
   "display_name": "base",
   "language": "python",
   "name": "python3"
  },
  "language_info": {
   "codemirror_mode": {
    "name": "ipython",
    "version": 3
   },
   "file_extension": ".py",
   "mimetype": "text/x-python",
   "name": "python",
   "nbconvert_exporter": "python",
   "pygments_lexer": "ipython3",
   "version": "3.11.5"
  }
 },
 "nbformat": 4,
 "nbformat_minor": 2
}
