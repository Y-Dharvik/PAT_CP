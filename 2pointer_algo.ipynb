{
 "cells": [
  {
   "cell_type": "markdown",
   "metadata": {},
   "source": [
    "## 11.1 Count Pairs whose Sum is less than Target\n",
    "Given a 0-indexed integer array nums of length n and an integer target, return the number of pairs (i,\n",
    "j) where 0 <= i < j < n and nums[i] + nums[j] < target.\n",
    "Input: nums = [-1, 1, 2, 3, 1], target = 2\n",
    "Output: 3\n",
    "Explanation: There are 3 pairs of indices that satisfy the conditions in the statement:\n",
    "- (0, 1) since 0 < 1 and nums[0] + nums[1] = 0 < target\n",
    "- (0, 2) since 0 < 2 and nums[0] + nums[2] = 1 < target\n",
    "- (0, 4) since 0 < 4 and nums[0] + nums[4] = 0 < target\\\n",
    "Note that (0, 3) is not counted since nums[0] + nums[3] is not strictly less than the target.\\\n",
    "Input: nums = [-6, 2, 5, -2, -7, -1, 3], target = -2\n",
    "Output: 10\n",
    "Explanation: There are 10 pairs of indices that satisfy the conditions in the statement:\n",
    "- (0, 1) since 0 < 1 and nums[0] + nums[1] = -4 < target\n",
    "- (0, 3) since 0 < 3 and nums[0] + nums[3] = -8 < target\n",
    "- (0, 4) since 0 < 4 and nums[0] + nums[4] = -13 < target\n",
    "- (0, 5) since 0 < 5 and nums[0] + nums[5] = -7 < target\n",
    "- (0, 6) since 0 < 6 and nums[0] + nums[6] = -3 < target\n",
    "- (1, 4) since 1 < 4 and nums[1] + nums[4] = -5 < target\n",
    "- (3, 4) since 3 < 4 and nums[3] + nums[4] = -9 < target\n",
    "- (3, 5) since 3 < 5 and nums[3] + nums[5] = -3 < target\n",
    "- (4, 5) since 4 < 5 and nums[4] + nums[5] = -8 < target\n",
    "- (4, 6) since 4 < 6 and nums[4] + nums[6] = -4 < target\n"
   ]
  },
  {
   "cell_type": "code",
   "execution_count": 2,
   "metadata": {},
   "outputs": [
    {
     "name": "stdout",
     "output_type": "stream",
     "text": [
      "3\n"
     ]
    }
   ],
   "source": [
    "def count_pairs_sum_to_target(arr, target):\n",
    "    arr.sort()\n",
    "    left = 0\n",
    "    right = len(arr) - 1\n",
    "    count = 0\n",
    "    while left < right:\n",
    "        if arr[left] + arr[right] < target:\n",
    "            count += right - left\n",
    "            left += 1\n",
    "        else:\n",
    "            right -= 1\n",
    "    return count\n",
    "\n",
    "num = [-1, 1, 2, 3, 1]\n",
    "target = 2\n",
    "print(count_pairs_sum_to_target(num, target))"
   ]
  },
  {
   "cell_type": "markdown",
   "metadata": {},
   "source": [
    "## 11.2 Happy Number\n",
    "Write an algorithm to determine if a number n is happy.\\\n",
    "A happy number is a number defined by the following process:\\\n",
    " Starting with any positive integer, replace the number by the sum of the squares of its digits.\\\n",
    " Repeat the process until the number equals 1 (where it will stay), or it loops endlessly in a\\\n",
    "cycle which does not include 1.\\\n",
    " Those numbers for which this process ends in 1 are happy.\\\n",
    "Return true if n is a happy number, and false if not.\\\n",
    "Input: n = 19\\\n",
    "Output: true\\\n",
    "Explanation:\\\n",
    "12 + 92 = 82\\\n",
    "82 + 22 = 68\\\n",
    "62 + 82 = 100\\\n",
    "12 + 02 + 02 = 1\\\n",
    "Input: n = 2\\\n",
    "Output: false\\\n"
   ]
  },
  {
   "cell_type": "code",
   "execution_count": 6,
   "metadata": {},
   "outputs": [
    {
     "ename": "TypeError",
     "evalue": "'int' object is not iterable",
     "output_type": "error",
     "traceback": [
      "\u001b[1;31m---------------------------------------------------------------------------\u001b[0m",
      "\u001b[1;31mTypeError\u001b[0m                                 Traceback (most recent call last)",
      "\u001b[1;32mj:\\PAT_CP\\2pointer_algo.ipynb Cell 4\u001b[0m line \u001b[0;36m7\n\u001b[0;32m      <a href='vscode-notebook-cell:/j%3A/PAT_CP/2pointer_algo.ipynb#W3sZmlsZQ%3D%3D?line=3'>4</a>\u001b[0m     \u001b[39mprint\u001b[39m(num)\n\u001b[0;32m      <a href='vscode-notebook-cell:/j%3A/PAT_CP/2pointer_algo.ipynb#W3sZmlsZQ%3D%3D?line=4'>5</a>\u001b[0m \u001b[39m    \u001b[39m\u001b[39m'''while n > 1:'''\u001b[39;00m\n\u001b[1;32m----> <a href='vscode-notebook-cell:/j%3A/PAT_CP/2pointer_algo.ipynb#W3sZmlsZQ%3D%3D?line=6'>7</a>\u001b[0m happy_num(\u001b[39m100\u001b[39m)\n",
      "\u001b[1;32mj:\\PAT_CP\\2pointer_algo.ipynb Cell 4\u001b[0m line \u001b[0;36m3\n\u001b[0;32m      <a href='vscode-notebook-cell:/j%3A/PAT_CP/2pointer_algo.ipynb#W3sZmlsZQ%3D%3D?line=0'>1</a>\u001b[0m \u001b[39mdef\u001b[39;00m \u001b[39mhappy_num\u001b[39m(n):\n\u001b[0;32m      <a href='vscode-notebook-cell:/j%3A/PAT_CP/2pointer_algo.ipynb#W3sZmlsZQ%3D%3D?line=1'>2</a>\u001b[0m     repeat \u001b[39m=\u001b[39m []\n\u001b[1;32m----> <a href='vscode-notebook-cell:/j%3A/PAT_CP/2pointer_algo.ipynb#W3sZmlsZQ%3D%3D?line=2'>3</a>\u001b[0m     num \u001b[39m=\u001b[39m \u001b[39mlist\u001b[39m(n)\n\u001b[0;32m      <a href='vscode-notebook-cell:/j%3A/PAT_CP/2pointer_algo.ipynb#W3sZmlsZQ%3D%3D?line=3'>4</a>\u001b[0m     \u001b[39mprint\u001b[39m(num)\n\u001b[0;32m      <a href='vscode-notebook-cell:/j%3A/PAT_CP/2pointer_algo.ipynb#W3sZmlsZQ%3D%3D?line=4'>5</a>\u001b[0m \u001b[39m    \u001b[39m\u001b[39m'''while n > 1:'''\u001b[39;00m\n",
      "\u001b[1;31mTypeError\u001b[0m: 'int' object is not iterable"
     ]
    }
   ],
   "source": [
    "def happy_num(n):\n",
    "    repeat = []\n",
    "    num = list()\n",
    "    print(num)\n",
    "    '''while n > 1:'''\n",
    "\n",
    "happy_num(100)\n"
   ]
  },
  {
   "cell_type": "markdown",
   "metadata": {},
   "source": [
    "## 11.19 Find the Duplicate Number\n",
    "Given an array of integers nums containing n + 1 integers where each integer is in the range [1, n] inclusive.\n",
    "There is only one repeated number in nums, return this repeated number.\n",
    "You must solve the problem without modifying the array nums and uses only constant extra space.\n",
    "Input: nums = [1, 3, 4, 2, 2]\n",
    "Output: 2\n",
    "Input: nums = [3, 1, 3, 4, 2]\n",
    "Output: 3"
   ]
  },
  {
   "cell_type": "code",
   "execution_count": 16,
   "metadata": {},
   "outputs": [
    {
     "name": "stdout",
     "output_type": "stream",
     "text": [
      "3\n",
      "2\n",
      "1\n",
      "5\n",
      "7\n",
      "6\n",
      "4\n",
      "7\n",
      "3\n"
     ]
    },
    {
     "data": {
      "text/plain": [
       "3"
      ]
     },
     "execution_count": 16,
     "metadata": {},
     "output_type": "execute_result"
    }
   ],
   "source": [
    "def find_dup(arr):\n",
    "    ans = 0\n",
    "    for i in arr:\n",
    "        ans ^= i\n",
    "        print(ans)\n",
    "\n",
    "    for i in range(1, len(arr)):\n",
    "        ans ^= i\n",
    "        print(ans)\n",
    "    return ans\n",
    "    \n",
    "find_dup([3, 1, 3, 4, 2])"
   ]
  },
  {
   "cell_type": "markdown",
   "metadata": {},
   "source": [
    "## 11.5 Largest Positive Integer that Exists with its Negative\n",
    "Given an integer array nums that does not contain any zeros, find the largest positive integer k such that -k also exists in the array.\n",
    "Return the positive integer k. If there is no such integer, return -1.\n",
    "Input: nums = [-1, 2, -3, 3]\n",
    "Output: 3\n",
    "Explanation: 3 is the only valid k we can find in the array.\n",
    "Input: nums = [-1, 10, 6, 7, -7, 1]\n",
    "Output: 7\n",
    "Explanation: Both 1 and 7 have their corresponding negative values in the array. 7 has a larger value.\n",
    "Input: nums = [-10, 8, 6, 7, -2, -3]\n",
    "Output: -1\n",
    "Explanation: There is no a single valid k, we return -1."
   ]
  },
  {
   "cell_type": "code",
   "execution_count": 28,
   "metadata": {},
   "outputs": [
    {
     "name": "stdout",
     "output_type": "stream",
     "text": [
      "-1\n"
     ]
    }
   ],
   "source": [
    "def large_pos_neg(arr):\n",
    "    lis = []\n",
    "    max = -1\n",
    "    for i in arr:\n",
    "        if i not in lis:\n",
    "            lis.append(-i)\n",
    "        else:\n",
    "            if abs(i) > max:\n",
    "                max = abs(i)\n",
    "    return max\n",
    "\n",
    "print(large_pos_neg([1, 2, 3, 4, 5]))"
   ]
  },
  {
   "cell_type": "code",
   "execution_count": 31,
   "metadata": {},
   "outputs": [
    {
     "name": "stdout",
     "output_type": "stream",
     "text": [
      "hi\n",
      "hi\n"
     ]
    }
   ],
   "source": [
    "def hi():\n",
    "    print('hello')\n",
    "def hi():\n",
    "    print('hi')\n",
    "hi()\n",
    "hi()"
   ]
  },
  {
   "cell_type": "markdown",
   "metadata": {},
   "source": [
    "11.3 Merge Two 2D Arrays by Summing Values\n",
    "You are given two 2D integer arrays nums1 and nums2.\n",
    " nums1[i] = [idi, vali] indicate that the number with the id idi has a value equal to vali.\n",
    " nums2[i] = [idi, vali] indicate that the number with the id idi has a value equal to vali.\n",
    "Each array contains unique ids and is sorted in ascending order by id.\n",
    "Merge the two arrays into one array that is sorted in ascending order by id, respecting the following conditions:\n",
    " Only ids that appear in at least one of the two arrays should be included in the resulting array.\n",
    " Each id should be included only once and its value should be the sum of the values of this id in the two arrays. If the id does not exist in one of the two arrays then its value in that array is considered to be 0.\n",
    "Return the resulting array. The returned array must be sorted in ascending order by id.\n",
    "Input: nums1 = [[1,2],[2,3],[4,5]], nums2 = [[1,4],[3,2],[4,1]]\n",
    "Output: [[1, 6], [2, 3], [3, 2], [4, 6]]\n",
    "Explanation: The resulting array contains the following:\n",
    "- id = 1, the value of this id is 2 + 4 = 6.\n",
    "- id = 2, the value of this id is 3.\n",
    "- id = 3, the value of this id is 2.\n",
    "- id = 4, the value of this id is 5 + 1 = 6.\n",
    "Input: nums1 = [[2, 4], [3, 6], [5, 5]], nums2 = [[1, 3], [4, 3]]\n",
    "Output: [[1, 3], [2, 4], [3, 6], [4, 3], [5, 5]]\n",
    "Explanation: There are no common ids, so we just include each id with its value in the resulting list."
   ]
  },
  {
   "cell_type": "code",
   "execution_count": 35,
   "metadata": {},
   "outputs": [
    {
     "name": "stdout",
     "output_type": "stream",
     "text": [
      "[[1, 3], [2, 4], [3, 6], [4, 3], [5, 5]]\n"
     ]
    }
   ],
   "source": [
    "def merge_arr(num1, num2):\n",
    "    i = 0\n",
    "    j = 0\n",
    "    ans = []\n",
    "    while i < len(num1) and j < len(num2):\n",
    "        if num1[i][0] > num2[j][0]:\n",
    "            ans.append([num2[j][0], num2[j][1]])\n",
    "            j += 1\n",
    "        elif num1[i][0] < num2[j][0]:\n",
    "            ans.append([num1[i][0], num1[i][1]])\n",
    "            i += 1\n",
    "        else:\n",
    "            ans.append([num1[i][0], num1[i][1] + num2[j][1]])\n",
    "            i += 1\n",
    "            j += 1\n",
    "        \n",
    "    if j < len(num2):\n",
    "        ans.extend(num2[j:])\n",
    "    if i < len(num1):\n",
    "        ans.extend(num1[i:])\n",
    "    return ans\n",
    "nums1 = [[2, 4], [3, 6], [5, 5]]\n",
    "nums2 = [[1, 3], [4, 3]]\n",
    "print(merge_arr(nums1, nums2))"
   ]
  },
  {
   "cell_type": "markdown",
   "metadata": {},
   "source": [
    "## 11.1 Count Pairs whose Sum is less than Target\n",
    "Given a 0-indexed integer array nums of length n and an integer target, return the number of pairs (i, j) where 0 <= i < j < n and nums[i] + nums[j] < target.\n",
    "Input: nums = [-1, 1, 2, 3, 1], target = 2\n",
    "Output: 3\n",
    "Explanation: There are 3 pairs of indices that satisfy the conditions in the statement:\n",
    "- (0, 1) since 0 < 1 and nums[0] + nums[1] = 0 < target\n",
    "- (0, 2) since 0 < 2 and nums[0] + nums[2] = 1 < target\n",
    "- (0, 4) since 0 < 4 and nums[0] + nums[4] = 0 < target\n",
    "Note that (0, 3) is not counted since nums[0] + nums[3] is not strictly less than the target.\n",
    "Input: nums = [-6, 2, 5, -2, -7, -1, 3], target = -2\n",
    "Output: 10\n",
    "Explanation: There are 10 pairs of indices that satisfy the conditions in the statement:\n",
    "- (0, 1) since 0 < 1 and nums[0] + nums[1] = -4 < target\n",
    "- (0, 3) since 0 < 3 and nums[0] + nums[3] = -8 < target\n",
    "- (0, 4) since 0 < 4 and nums[0] + nums[4] = -13 < target\n",
    "- (0, 5) since 0 < 5 and nums[0] + nums[5] = -7 < target\n",
    "- (0, 6) since 0 < 6 and nums[0] + nums[6] = -3 < target\n",
    "- (1, 4) since 1 < 4 and nums[1] + nums[4] = -5 < target\n",
    "- (3, 4) since 3 < 4 and nums[3] + nums[4] = -9 < target\n",
    "- (3, 5) since 3 < 5 and nums[3] + nums[5] = -3 < target\n",
    "- (4, 5) since 4 < 5 and nums[4] + nums[5] = -8 < target\n",
    "- (4, 6) since 4 < 6 and nums[4] + nums[6] = -4 < target"
   ]
  },
  {
   "cell_type": "code",
   "execution_count": 4,
   "metadata": {},
   "outputs": [
    {
     "name": "stdout",
     "output_type": "stream",
     "text": [
      "10\n"
     ]
    }
   ],
   "source": [
    "def count_sum_less_target(arr, target):\n",
    "    arr.sort()\n",
    "    i = 0\n",
    "    j = len(arr) - 1\n",
    "    count = 0\n",
    "    while(j>i):\n",
    "        if arr[i] + arr[j] < target:\n",
    "            count += j - i\n",
    "            i += 1\n",
    "        elif arr[i] + arr[j] >= target:\n",
    "            j -= 1\n",
    "    return count\n",
    "\n",
    "nums = [-6, 2, 5, -2, -7, -1, 3]\n",
    "target = -2\n",
    "print(count_sum_less_target(nums, target))"
   ]
  },
  {
   "cell_type": "markdown",
   "metadata": {},
   "source": [
    "## 11.2 Lexicographically Smallest Palindrome\n",
    "You are given a string s consisting of lowercase English letters, and you are allowed to perform \n",
    "operations\n",
    "on it. In one operation, you can replace a character in s with another lowercase English letter.\n",
    "\n",
    "Your task is to make s a palindrome with the minimum number of operations possible. If there\n",
    "are multiple  palindromes that  can  be made  using  the minimum number  of  operations, make the \n",
    "lexicographically smallest one.\n",
    "A string a is lexicographically smaller than a string b (of the same length) if in the first \n",
    "position where a and b differ, string a has a letter that appears earlier in the alphabet than the \n",
    "corresponding letter in b.\n",
    "Return the resulting palindrome string.\n",
    "Input: s = \"egcfe\"\n",
    "Output: \"efcfe\"\n",
    "Explanation: The minimum number of operations to make \"egcfe\" a palindrome is 1, and the\n",
    "lexicographically smallest palindrome string we can get by modifying one character is \"efcfe\", by \n",
    "changing 'g'.\n",
    "Input: s = \"abcd\"\n",
    "Output: \"abba\"\n",
    "Explanation: The minimum number of operations to make \"abcd\" a palindrome is 2, and the\n",
    "lexicographically smallest palindrome string we can get by modifying two characters is \"abba\".\n",
    "Input: s = \"seven\"\n",
    "Output: \"neven\"\n",
    "Explanation: The minimum number of operations to make \"seven\" a palindrome is 1, and the\n",
    "lexicographically smallest palindrome string we can get by modifying one character is \"neven\".\n"
   ]
  },
  {
   "cell_type": "code",
   "execution_count": 28,
   "metadata": {},
   "outputs": [
    {
     "name": "stdout",
     "output_type": "stream",
     "text": [
      "neven\n"
     ]
    }
   ],
   "source": [
    "def min_op_palindrome(s):\n",
    "    n = len(s)\n",
    "    i = 0\n",
    "    j = n - 1\n",
    "    while(j>i):\n",
    "        if s[i] < s[j]:\n",
    "            s[j] = s[i]\n",
    "        elif s[i] > s[j]:\n",
    "            s[i] = s[j]\n",
    "        i += 1\n",
    "        j -= 1\n",
    "    return ''.join(map(str, s))\n",
    "\n",
    "s = \"seven\"\n",
    "print(min_op_palindrome(list(s)))\n"
   ]
  },
  {
   "cell_type": "markdown",
   "metadata": {},
   "source": [
    "## 11.6 Maximum Matching of Players with Trainers\n",
    "You are given a 0-indexed integer array players, where players[i] represents the ability of the ith \n",
    "player. You are also given a 0-indexed integer array trainers, where trainers[j] represents the \n",
    "training capacity of the jth trainer.\n",
    "The ith player can match with the jth trainer if the player's ability is less than or equal to the \n",
    "trainer's training capacity. Additionally, the ith player can be matched with at most one trainer, \n",
    "and the jth trainer can be matched with at most one player.\n",
    "Return the maximum number of matchings between players and trainers that satisfy these conditions.\n",
    "Input: players = [4, 7, 9], trainers = [8, 2, 5, 8]\n",
    "Output: 2\n",
    "Explanation:\n",
    "One of the ways we can form two matchings is as follows:\n",
    "- players[0] can be matched with trainers[0] since 4 <= 8.\n",
    "- players[1] can be matched with trainers[3] since 7 <= 8.\n",
    "\n",
    "It can be proven that 2 is the maximum number of matchings that can be formed.\n",
    "Input: players = [1, 1, 1], trainers = [10]\n",
    "Output: 1\n",
    "Explanation:\n",
    "The trainer can be matched with any of the 3 players.\n",
    "Each player can only be matched with one trainer, so the maximum answer is 1.\n"
   ]
  },
  {
   "cell_type": "code",
   "execution_count": 30,
   "metadata": {},
   "outputs": [
    {
     "name": "stdout",
     "output_type": "stream",
     "text": [
      "1\n"
     ]
    }
   ],
   "source": [
    "def match_player_trainer(players, trainers):\n",
    "    players.sort(reverse = True)\n",
    "    trainers.sort(reverse = True)\n",
    "    i = 0\n",
    "    j = 0\n",
    "    count = 0\n",
    "    while(j < len(trainers) and i < len(players)):\n",
    "        if players[i] <= trainers[j]:\n",
    "            count += 1\n",
    "            i += 1\n",
    "            j += 1\n",
    "        else:\n",
    "            i += 1\n",
    "    return count\n",
    "\n",
    "players = [1, 1, 1]\n",
    "trainers = [10]\n",
    "print(match_player_trainer(players, trainers))\n"
   ]
  },
  {
   "cell_type": "markdown",
   "metadata": {},
   "source": [
    "## 11.7 Strictly Palindromic Number\n",
    "An integer n is strictly palindromic if, for every base b between 2 and n - 2 (inclusive), the \n",
    "string\n",
    "representation of the integer n in base b is palindromic.\n",
    "Given an integer n, return true if n is strictly palindromic and false otherwise.\n",
    "A string is palindromic if it reads the same forward and backward.\n",
    "Input: n = 9\n",
    "Output: false\n",
    "Explanation: In base 2: 9 = 1001 (base 2), which is palindromic.\n",
    "In base 3: 9 = 100 (base 3), which is not palindromic. Therefore, 9 is not strictly palindromic so \n",
    "we return false. Note that in bases 4, 5, 6, and 7, n = 9 is also not palindromic.\n",
    "Input: n = 4\n",
    "Output: false\n",
    "Explanation: We only consider base 2: 4 = 100 (base 2), which is not palindromic.\n",
    "Therefore, we return false.\n"
   ]
  },
  {
   "cell_type": "code",
   "execution_count": 39,
   "metadata": {},
   "outputs": [
    {
     "name": "stdout",
     "output_type": "stream",
     "text": [
      "True\n"
     ]
    }
   ],
   "source": [
    "def to_base_i(n, base):\n",
    "    ans = []\n",
    "    while(n > 0):\n",
    "        ans.append(str(n % base))\n",
    "        n //= base\n",
    "    return ''.join(ans[::-1])\n",
    "\n",
    "def check_palindrome(n):\n",
    "    return str(n) == str(n)[::-1]\n",
    "\n",
    "def count_strict_palindrome(n):\n",
    "    for i in range(2, n-1):\n",
    "        if not check_palindrome(to_base_i(n, i)):\n",
    "            return \"False\"\n",
    "    return \"True\"\n",
    "\n",
    "print(count_strict_palindrome(2))"
   ]
  },
  {
   "cell_type": "markdown",
   "metadata": {},
   "source": [
    "## 11.8 Number of Arithmetic Triplets\n",
    "You are given a 0-indexed, strictly increasing integer array nums and a positive integer diff. A \n",
    "triplet (i, j,\n",
    "k) is an arithmetic triplet if the following conditions are met:\n",
    "• i < j < k,\n",
    "• nums[j] - nums[i] == diff, and\n",
    "• nums[k] - nums[j] == diff.\n",
    "Return the number of unique arithmetic triplets.\n",
    "\n",
    "Input: nums = [0, 1, 4, 6, 7, 10], diff = 3\n",
    "Output: 2\n",
    "Explanation:\n",
    "(1, 2, 4) is an arithmetic triplet because both 7 - 4 == 3 and 4 - 1 == 3.\n",
    "(2, 4, 5) is an arithmetic triplet because both 10 - 7 == 3 and 7 - 4 == 3.\n",
    "\n",
    "Input: nums = [4, 5, 6, 7, 8, 9], diff = 2\n",
    "Output: 2\n",
    "Explanation:\n",
    "(0, 2, 4) is an arithmetic triplet because both 8 - 6 == 2 and 6 - 4 == 2.\n",
    "(1, 3, 5) is an arithmetic triplet because both 9 - 7 == 2 and 7 - 5 == 2.\n"
   ]
  },
  {
   "cell_type": "code",
   "execution_count": 41,
   "metadata": {},
   "outputs": [
    {
     "name": "stdout",
     "output_type": "stream",
     "text": [
      "2\n"
     ]
    }
   ],
   "source": [
    "def arithmetic_triplets(arr, diff):\n",
    "    s = set(arr)\n",
    "    count = 0\n",
    "    for i in arr:\n",
    "        if i + diff in s and i + (2*diff) in s:\n",
    "            count += 1\n",
    "\n",
    "    return count\n",
    "\n",
    "nums = [4, 5, 6, 7, 8, 9]\n",
    "diff = 2\n",
    "print(arithmetic_triplets(nums, diff))"
   ]
  }
 ],
 "metadata": {
  "kernelspec": {
   "display_name": "base",
   "language": "python",
   "name": "python3"
  },
  "language_info": {
   "codemirror_mode": {
    "name": "ipython",
    "version": 3
   },
   "file_extension": ".py",
   "mimetype": "text/x-python",
   "name": "python",
   "nbconvert_exporter": "python",
   "pygments_lexer": "ipython3",
   "version": "3.11.5"
  }
 },
 "nbformat": 4,
 "nbformat_minor": 2
}
